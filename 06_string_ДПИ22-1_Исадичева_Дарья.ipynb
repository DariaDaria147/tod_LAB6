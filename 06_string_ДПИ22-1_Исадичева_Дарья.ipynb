{
 "cells": [
  {
   "cell_type": "markdown",
   "metadata": {},
   "source": [
    "# Работа со строковыми значениями"
   ]
  },
  {
   "cell_type": "markdown",
   "metadata": {},
   "source": [
    "__Автор задач: Блохин Н.В. (NVBlokhin@fa.ru)__\n",
    "\n",
    "Материалы:\n",
    "* Макрушин С.В. Лекция \"Работа со строковыми значениям\"\n",
    "* https://pyformat.info/\n",
    "* https://docs.python.org/3/library/re.html\n",
    "    * https://docs.python.org/3/library/re.html#flags\n",
    "    * https://docs.python.org/3/library/re.html#functions\n",
    "* https://pythonru.com/primery/primery-primeneniya-regulyarnyh-vyrazheniy-v-python\n",
    "* https://kanoki.org/2019/11/12/how-to-use-regex-in-pandas/\n",
    "* https://realpython.com/nltk-nlp-python/"
   ]
  },
  {
   "cell_type": "markdown",
   "metadata": {},
   "source": [
    "## Лабораторная работа 6"
   ]
  },
  {
   "cell_type": "markdown",
   "metadata": {},
   "source": [
    "### Форматирование строк"
   ]
  },
  {
   "cell_type": "markdown",
   "metadata": {},
   "source": [
    "1\\. Загрузите данные из файла `recipes_sample.csv` (__ЛР2__) в виде `pd.DataFrame` `recipes` При помощи форматирования строк выведите информацию об id рецепта и времени выполнения 5 случайных рецептов в виде таблицы следующего вида:\n",
    "\n",
    "    \n",
    "    |      id      |  minutes  |\n",
    "    |--------------------------|\n",
    "    |    61178     |    65     |\n",
    "    |    202352    |    80     |\n",
    "    |    364322    |    150    |\n",
    "    |    26177     |    20     |\n",
    "    |    224785    |    35     |\n",
    "    \n",
    "Обратите внимание, что ширина столбцов заранее неизвестна и должна рассчитываться динамически, в зависимости от тех данных, которые были выбраны. "
   ]
  },
  {
   "cell_type": "code",
   "execution_count": 1,
   "metadata": {},
   "outputs": [],
   "source": [
    "import pandas as pd\n",
    "import numpy as np\n",
    "import re"
   ]
  },
  {
   "cell_type": "code",
   "execution_count": 17,
   "metadata": {},
   "outputs": [
    {
     "name": "stdout",
     "output_type": "stream",
     "text": [
      "|       id        |  minutes   |\n",
      "|------------------------------|\n",
      "|     385172      |   40410    |\n",
      "|      44845      |    190     |\n",
      "|      21019      |     80     |\n",
      "|      82065      |     26     |\n",
      "|     161853      |     20     |\n"
     ]
    }
   ],
   "source": [
    "recipes = pd.read_csv(\"recipes_sample.csv\", parse_dates = [\"submitted\"]).fillna(0.0)\n",
    "random_rec = recipes[['id', 'minutes']].sample(n = 5)\n",
    "\n",
    "output = []\n",
    "for _, row in random_rec.iterrows():\n",
    "    output.append(f\"| {row['id']:^15} | {row['minutes']:^10} |\")\n",
    "    \n",
    "print(f\"| {'id':^15} | {'minutes':^10} |\")\n",
    "print(f\"{'|-':-<31}|\")\n",
    "for line in output:\n",
    "    print(line)"
   ]
  },
  {
   "cell_type": "markdown",
   "metadata": {},
   "source": [
    "2\\. Напишите функцию `show_info`, которая по данным о рецепте создает строку (в смысле объекта python) с описанием следующего вида:\n",
    "\n",
    "```\n",
    "\"Название Из Нескольких Слов\"\n",
    "\n",
    "1. Шаг 1\n",
    "2. Шаг 2\n",
    "----------\n",
    "Автор: contributor_id\n",
    "Среднее время приготовления: minutes минут\n",
    "```\n",
    "\n",
    "    \n",
    "Данные для создания строки получите из файлов `recipes_sample.csv` (__ЛР2__) и `steps_sample.xml` (__ЛР3__). \n",
    "Вызовите данную функцию для рецепта с id `170895` и выведите (через `print`) полученную строку на экран."
   ]
  },
  {
   "cell_type": "code",
   "execution_count": 22,
   "metadata": {},
   "outputs": [
    {
     "name": "stdout",
     "output_type": "stream",
     "text": [
      "\"Leeks And Parsnips  Sauteed Or Creamed\"\n",
      "\n",
      "1. Clean the leeks and discard the dark green portions\n",
      "2. Cut the leeks lengthwise then into one-inch pieces\n",
      "3. Melt the butter in a medium skillet , med\n",
      "4. Heat\n",
      "5. Add the garlic and fry 'til fragrant\n",
      "6. Add leeks and fry until the leeks are tender , about 6-minutes\n",
      "7. Meanwhile , peel and chunk the parsnips into one-inch pieces\n",
      "8. Place in a steaming basket and steam 'til they are as tender as you prefer\n",
      "9. I like them fork-tender\n",
      "10. Drain parsnips and add to the skillet with the leeks\n",
      "11. Add salt and pepper\n",
      "12. Gently sautee together for 5-minutes\n",
      "13. At this point you can serve it , or continue on and cream it:\n",
      "14. In a jar with a screw top , add the half-n-half and arrowroot\n",
      "15. Shake 'til blended\n",
      "16. Turn heat to low under the leeks and parsnips\n",
      "17. Pour in the arrowroot mixture , stirring gently as you pour\n",
      "18. If too thick , gradually add the water\n",
      "19. Let simmer for a couple of minutes\n",
      "20. Taste to adjust seasoning , probably an additional 1 / 2 teaspoon salt\n",
      "21. Serve warm\n",
      "----------\n",
      "Автор: 8377\n",
      "Среднее время приготовления: 27 минут\n",
      "\n"
     ]
    }
   ],
   "source": [
    "from bs4 import BeautifulSoup\n",
    "\n",
    "\n",
    "def show_info(name: str, steps: list, minutes: int, author_id: int):\n",
    "    info_str = f'\"{name.title()}\"\\n\\n'\n",
    "    for i, step in enumerate(steps, start=1):\n",
    "        info_str += f\"{i}. {step.capitalize()}\\n\"\n",
    "    info_str += \"----------\\n\"\n",
    "    info_str += f\"Автор: {author_id}\\n\"\n",
    "    info_str += f\"Среднее время приготовления: {minutes} минут\\n\"\n",
    "    return info_str\n",
    "\n",
    "\n",
    "id_170895 = recipes.loc[recipes['id'] == 170895]\n",
    "\n",
    "with open('steps_sample.xml') as f:\n",
    "    data = BeautifulSoup(f, 'xml')\n",
    "\n",
    "steps = []\n",
    "for recipe in data.recipes.find_all('recipe'):\n",
    "    if recipe.find(\"id\").next == '170895':\n",
    "        steps = [step.next for step in recipe.steps.find_all('step')]\n",
    "        break\n",
    "        \n",
    "info_str = show_info(\n",
    "            name = id_170895['name'].values[0],\n",
    "            steps = steps,\n",
    "            minutes = id_170895['minutes'].values[0],\n",
    "            author_id = id_170895['contributor_id'].values[0]\n",
    "        )\n",
    "print(info_str)"
   ]
  },
  {
   "cell_type": "code",
   "execution_count": 7,
   "metadata": {},
   "outputs": [],
   "source": [
    "assert (\n",
    "    show_info(\n",
    "        name=\"george s at the cove black bean soup\",\n",
    "        steps=[\n",
    "            \"clean the leeks and discard the dark green portions\",\n",
    "            \"cut the leeks lengthwise then into one-inch pieces\",\n",
    "            \"melt the butter in a medium skillet , med\",\n",
    "        ],\n",
    "        minutes=90,\n",
    "        author_id=35193,\n",
    "    )\n",
    "    == '\"George S At The Cove Black Bean Soup\"\\n\\n1. Clean the leeks and discard the dark green portions\\n2. Cut the leeks lengthwise then into one-inch pieces\\n3. Melt the butter in a medium skillet , med\\n----------\\nАвтор: 35193\\nСреднее время приготовления: 90 минут\\n'\n",
    ")"
   ]
  },
  {
   "cell_type": "markdown",
   "metadata": {},
   "source": [
    "## Работа с регулярными выражениями"
   ]
  },
  {
   "cell_type": "markdown",
   "metadata": {},
   "source": [
    "3\\. Напишите регулярное выражение, которое ищет следующий паттерн в строке: число (1 цифра или более), затем пробел, затем слова: hour или hours или minute или minutes. Произведите поиск по данному регулярному выражению в каждом шаге рецепта с id 25082. Выведите на экран все непустые результаты, найденные по данному шаблону."
   ]
  },
  {
   "cell_type": "code",
   "execution_count": 23,
   "metadata": {},
   "outputs": [
    {
     "name": "stdout",
     "output_type": "stream",
     "text": [
      "['20 minutes', '10 minutes', '2 hours', '10 minutes', '20 minutes', '30 minutes']\n"
     ]
    }
   ],
   "source": [
    "with open('steps_sample.xml') as f:\n",
    "    data = BeautifulSoup(f, 'xml')\n",
    "\n",
    "pattern = r'\\d+\\shours|\\d+\\shour|\\d+\\sminutes|\\d+\\sminute'\n",
    "steps = []\n",
    "\n",
    "for recipe in data.recipes.find_all('recipe'):\n",
    "    if recipe.find(\"id\").next == '25082':\n",
    "        steps = [step.next for step in recipe.steps.find_all('step')]\n",
    "\n",
    "search = re.findall(pattern, '\\n'.join(steps))\n",
    "print(search)"
   ]
  },
  {
   "cell_type": "markdown",
   "metadata": {},
   "source": [
    "4\\. Напишите регулярное выражение, которое ищет шаблон вида \"this..., but\" _в начале строки_ . Между словом \"this\" и частью \", but\" может находиться произвольное число букв, цифр, знаков подчеркивания и пробелов. Никаких других символов вместо многоточия быть не может. Пробел между запятой и словом \"but\" может присутствовать или отсутствовать.\n",
    "\n",
    "Используя строковые методы `pd.Series`, выясните, для каких рецептов данный шаблон содержится в тексте описания. Выведите на экран количество таких рецептов и 3 примера подходящих описаний (текст описания должен быть виден на экране полностью)."
   ]
  },
  {
   "cell_type": "code",
   "execution_count": 24,
   "metadata": {},
   "outputs": [
    {
     "name": "stdout",
     "output_type": "stream",
     "text": [
      "Количество рецептов, содержащих шаблон: 134\n",
      "Примеры рецептов, содержащих шаблон:\n",
      "\n",
      "Рецепт 76:\n",
      "this is a great meal eaten the same day ,but even better the next day , if you can wait! add your favourite spices, but try it first as it is and i think that you will enjoy the 'vegetable' taste. good for freezing.\n",
      "\n",
      "Рецепт 183:\n",
      "this was adapted from a recipe i found on the net, but i added julienne onion to the peppers.  this is a meal in itself, or you could have a small slice with a meat dish.  for those that like to have brunch, it's a bit different to your traditional quiche recipes.  if you love cheese, you could add 1/2 cup of your favorite to the egg mixture, then pour over peppers.\n",
      "\n",
      "Рецепт 337:\n",
      "this is kind of similar to some of the other versions out there, but it is the best and easiest i have found\n",
      "\n"
     ]
    }
   ],
   "source": [
    "pattern = r\"^this[\\w\\s]*,\\s?but\"\n",
    "search = recipes[\"description\"].str.contains(pattern, regex=True).fillna(False)\n",
    "\n",
    "print(\"Количество рецептов, содержащих шаблон:\", search.sum())\n",
    "print(\"Примеры рецептов, содержащих шаблон:\\n\")\n",
    "for i, desc in recipes[search][\"description\"].head(3).items():\n",
    "    print(f\"Рецепт {i}:\\n{desc}\\n\")"
   ]
  },
  {
   "cell_type": "markdown",
   "metadata": {},
   "source": [
    "5\\. В текстах шагов рецептов обыкновенные дроби имеют вид \"a / b\". Используя регулярные выражения, уберите в тексте шагов рецепта с id 72367 пробелы до и после символа дроби. Выведите на экран шаги этого рецепта после их изменения."
   ]
  },
  {
   "cell_type": "code",
   "execution_count": 25,
   "metadata": {},
   "outputs": [
    {
     "name": "stdout",
     "output_type": "stream",
     "text": [
      "mix butter , flour , 1/3 c\n",
      "sugar and 1-1/4 t\n",
      "vanilla\n",
      "press into greased 9\" springform pan\n",
      "mix cream cheese , 1/4 c\n",
      "sugar , eggs and 1/2 t\n",
      "vanilla beating until fluffy\n",
      "pour over dough\n",
      "combine apples , 1/3 c\n",
      "sugar and cinnamon\n",
      "arrange on top of cream cheese mixture and sprinkle with almonds\n",
      "bake at 350 for 45-55 minutes , or until tester comes out clean\n"
     ]
    }
   ],
   "source": [
    "steps = []\n",
    "for recipe in data.recipes.find_all('recipe'):\n",
    "    if recipe.find(\"id\").next == '72367':\n",
    "        steps = [step.next for step in recipe.steps.find_all('step')]\n",
    "        break\n",
    "\n",
    "after_changes = re.sub(r'(\\d+)\\s*/\\s*(\\d+)', r'\\1/\\2', '\\n'.join(steps))\n",
    "print(after_changes)"
   ]
  },
  {
   "cell_type": "markdown",
   "metadata": {},
   "source": [
    "### Сегментация текста"
   ]
  },
  {
   "cell_type": "markdown",
   "metadata": {},
   "source": [
    "6\\. Разбейте тексты шагов рецептов на слова при помощи пакета `nltk`. Посчитайте и выведите на экран кол-во уникальных слов среди всех рецептов. Словом называется любая последовательность алфавитных символов (для проверки можно воспользоваться `str.isalpha`). При подсчете количества уникальных слов не учитывайте регистр."
   ]
  },
  {
   "cell_type": "code",
   "execution_count": 26,
   "metadata": {},
   "outputs": [
    {
     "name": "stdout",
     "output_type": "stream",
     "text": [
      "Количество уникальных слов: 14926\n"
     ]
    }
   ],
   "source": [
    "import nltk\n",
    "\n",
    "with open('steps_sample.xml') as f:\n",
    "    data = BeautifulSoup(f, 'xml')\n",
    "    \n",
    "recipes_and_steps = {}\n",
    "for recipe in data.recipes.find_all('recipe'):\n",
    "    steps = [step.next for step in recipe.steps.find_all('step')]\n",
    "    recipes_and_steps[f'{recipe.find(\"id\").next}'] = steps\n",
    "    \n",
    "words = []\n",
    "for recipe_steps in recipes_and_steps.values():\n",
    "    for step in recipe_steps:\n",
    "        words.extend([word.lower() for word in nltk.word_tokenize(step) if word.isalpha()])\n",
    "\n",
    "print(\"Количество уникальных слов:\", len(set(words)))"
   ]
  },
  {
   "cell_type": "markdown",
   "metadata": {},
   "source": [
    "7\\. Разбейте описания рецептов из `recipes` на предложения при помощи пакета `nltk`. Найдите 5 самых длинных описаний (по количеству _предложений_) рецептов в датасете и выведите строки фрейма, соответствующие этим рецептами, в порядке убывания длины."
   ]
  },
  {
   "cell_type": "code",
   "execution_count": 27,
   "metadata": {},
   "outputs": [
    {
     "name": "stdout",
     "output_type": "stream",
     "text": [
      "name                   my favorite buttercream icing for decorating\n",
      "id                                                           334113\n",
      "minutes                                                          30\n",
      "contributor_id                                               681465\n",
      "submitted                                       2008-10-30 00:00:00\n",
      "n_steps                                                        12.0\n",
      "description       this wonderful icing is used for icing cakes a...\n",
      "n_ingredients                                                   0.0\n",
      "long_sentences                                                   76\n",
      "Name: 18408, dtype: object\n",
      "\n",
      "name              alligator claws  avocado fritters  with chipot...\n",
      "id                                                           287008\n",
      "minutes                                                          45\n",
      "contributor_id                                               765354\n",
      "submitted                                       2008-02-19 00:00:00\n",
      "n_steps                                                         0.0\n",
      "description       a translucent golden-brown crust allows the gr...\n",
      "n_ingredients                                                   9.0\n",
      "long_sentences                                                   27\n",
      "Name: 481, dtype: object\n",
      "\n",
      "name                                      rich barley mushroom soup\n",
      "id                                                           328708\n",
      "minutes                                                          60\n",
      "contributor_id                                               221776\n",
      "submitted                                       2008-10-03 00:00:00\n",
      "n_steps                                                         0.0\n",
      "description       this is one of the best soups i've ever made a...\n",
      "n_ingredients                                                  10.0\n",
      "long_sentences                                                   24\n",
      "Name: 22566, dtype: object\n",
      "\n",
      "name                                                  chocolate tea\n",
      "id                                                           205348\n",
      "minutes                                                           6\n",
      "contributor_id                                               428824\n",
      "submitted                                       2007-01-14 00:00:00\n",
      "n_steps                                                         0.0\n",
      "description       i wrote this because there are an astounding l...\n",
      "n_ingredients                                                   0.0\n",
      "long_sentences                                                   23\n",
      "Name: 6779, dtype: object\n",
      "\n",
      "name              little bunny foo foo cake  carrot cake  with c...\n",
      "id                                                           316000\n",
      "minutes                                                          68\n",
      "contributor_id                                               689540\n",
      "submitted                                       2008-07-27 00:00:00\n",
      "n_steps                                                        14.0\n",
      "description       the first time i made this cake i grated a mil...\n",
      "n_ingredients                                                   0.0\n",
      "long_sentences                                                   23\n",
      "Name: 16296, dtype: object\n",
      "\n"
     ]
    }
   ],
   "source": [
    "long_sentences = []\n",
    "for description in recipes['description']:\n",
    "    sentences = nltk.sent_tokenize(str(description))\n",
    "    long_sentences.append(len(sentences))\n",
    "\n",
    "recipes['long_sentences'] = long_sentences\n",
    "longest_descriptions = recipes.nlargest(5, 'long_sentences')\n",
    "for i, row in longest_descriptions.iterrows():\n",
    "    print(row)\n",
    "    print()"
   ]
  },
  {
   "cell_type": "markdown",
   "metadata": {},
   "source": [
    "8\\. Напишите функцию, которая для заданного предложения выводит информацию о частях речи слов, входящих в предложение, в следующем виде:\n",
    "```\n",
    "PRP   VBD   DT      NNS     CC   VBD      NNS        RB   \n",
    " I  omitted the raspberries and added strawberries instead\n",
    "``` \n",
    "Для определения части речи слова можно воспользоваться `nltk.pos_tag`.\n",
    "\n",
    "Проверьте работоспособность функции на названии рецепта с id 241106.\n",
    "\n",
    "Обратите внимание, что часть речи должна находиться ровно посередине над соотвествующим словом, а между самими словами должен быть ровно один пробел.\n"
   ]
  },
  {
   "cell_type": "code",
   "execution_count": 28,
   "metadata": {},
   "outputs": [
    {
     "name": "stdout",
     "output_type": "stream",
     "text": [
      "    JJ     NNS    IN    NNS     VBP    JJ   CC   JJ    NNS  \n",
      "eggplant steaks with chickpeas feta cheese and black olives \n"
     ]
    }
   ],
   "source": [
    "from nltk.tokenize import word_tokenize\n",
    "\n",
    "def word_info(sentence):\n",
    "    tokens = word_tokenize(sentence)\n",
    "    tagged = nltk.pos_tag(tokens)\n",
    "    speech_part = ''\n",
    "    words = ''\n",
    "    for tag in tagged:\n",
    "        speech_part += f'{tag[1]}'.center(len(tag[0]) + 1)\n",
    "        words += tag[0] + ' '\n",
    "    print(speech_part)\n",
    "    print(words)\n",
    "\n",
    "recipe_241106 = recipes[recipes['id'] == 241106]\n",
    "name = recipe_241106.loc[recipe_241106.index[0], 'name']\n",
    "word_info(name)"
   ]
  },
  {
   "cell_type": "code",
   "execution_count": null,
   "metadata": {},
   "outputs": [],
   "source": []
  }
 ],
 "metadata": {
  "kernelspec": {
   "display_name": "Python 3 (ipykernel)",
   "language": "python",
   "name": "python3"
  },
  "language_info": {
   "codemirror_mode": {
    "name": "ipython",
    "version": 3
   },
   "file_extension": ".py",
   "mimetype": "text/x-python",
   "name": "python",
   "nbconvert_exporter": "python",
   "pygments_lexer": "ipython3",
   "version": "3.9.13"
  }
 },
 "nbformat": 4,
 "nbformat_minor": 4
}
